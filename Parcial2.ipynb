{
 "cells": [
  {
   "cell_type": "code",
   "execution_count": 5,
   "id": "2f0c6c8e",
   "metadata": {},
   "outputs": [],
   "source": [
    "import csv"
   ]
  },
  {
   "cell_type": "markdown",
   "id": "baebc088",
   "metadata": {},
   "source": [
    "### ***args** \n",
    "El asterisco le dice a Python que va a recibir varios argumentos y args es el nombre de la variable donde se van a guardar en forma de tupla (Los argumentos se vuelven los elementos de la tupla). "
   ]
  },
  {
   "cell_type": "code",
   "execution_count": 17,
   "id": "5596f437",
   "metadata": {},
   "outputs": [],
   "source": [
    "class Clase(object):\n",
    "    def __init__(self, *filename):\n",
    "        self.filename = filename\n",
    "        self.pathname = pathname\n",
    "    "
   ]
  },
  {
   "cell_type": "code",
   "execution_count": 18,
   "id": "4b1a3d17",
   "metadata": {},
   "outputs": [
    {
     "ename": "TypeError",
     "evalue": "Clase.__init__() missing 1 required keyword-only argument: 'pathname'",
     "output_type": "error",
     "traceback": [
      "\u001b[1;31m---------------------------------------------------------------------------\u001b[0m",
      "\u001b[1;31mTypeError\u001b[0m                                 Traceback (most recent call last)",
      "Cell \u001b[1;32mIn[18], line 1\u001b[0m\n\u001b[1;32m----> 1\u001b[0m objeto\u001b[38;5;241m=\u001b[39m\u001b[43mClase\u001b[49m\u001b[43m(\u001b[49m\u001b[38;5;124;43m\"\u001b[39;49m\u001b[38;5;124;43mHola\u001b[39;49m\u001b[38;5;124;43m\"\u001b[39;49m\u001b[43m,\u001b[49m\u001b[43m \u001b[49m\u001b[38;5;124;43m\"\u001b[39;49m\u001b[38;5;124;43mcómo\u001b[39;49m\u001b[38;5;124;43m\"\u001b[39;49m\u001b[43m,\u001b[49m\u001b[43m \u001b[49m\u001b[38;5;124;43m\"\u001b[39;49m\u001b[38;5;124;43mestás?\u001b[39;49m\u001b[38;5;124;43m\"\u001b[39;49m\u001b[43m)\u001b[49m\n",
      "\u001b[1;31mTypeError\u001b[0m: Clase.__init__() missing 1 required keyword-only argument: 'pathname'"
     ]
    }
   ],
   "source": [
    "objeto=Clase(\"Hola\", \"cómo\", \"estás?\")"
   ]
  },
  {
   "cell_type": "code",
   "execution_count": null,
   "id": "73379fa8",
   "metadata": {},
   "outputs": [],
   "source": [
    "# Clase"
   ]
  }
 ],
 "metadata": {
  "kernelspec": {
   "display_name": "Python 3 (ipykernel)",
   "language": "python",
   "name": "python3"
  },
  "language_info": {
   "codemirror_mode": {
    "name": "ipython",
    "version": 3
   },
   "file_extension": ".py",
   "mimetype": "text/x-python",
   "name": "python",
   "nbconvert_exporter": "python",
   "pygments_lexer": "ipython3",
   "version": "3.11.2"
  }
 },
 "nbformat": 4,
 "nbformat_minor": 5
}
