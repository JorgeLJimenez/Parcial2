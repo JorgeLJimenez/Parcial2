{
 "cells": [
  {
   "cell_type": "markdown",
   "id": "7a59eae5",
   "metadata": {},
   "source": [
    "### Hola ^ ^ :)"
   ]
  },
  {
   "cell_type": "code",
   "execution_count": 25,
   "id": "6578c2ae",
   "metadata": {},
   "outputs": [],
   "source": [
    "import csv"
   ]
  },
  {
   "cell_type": "markdown",
   "id": "5a04cf71",
   "metadata": {},
   "source": [
    "### ***args** \n",
    "El asterisco le dice a Python que va a recibir varios argumentos y args es el nombre de la variable donde se van a guardar en forma de tupla (Los argumentos se vuelven los elementos de la tupla). "
   ]
  },
  {
   "cell_type": "code",
   "execution_count": 26,
   "id": "3a400357",
   "metadata": {},
   "outputs": [],
   "source": [
    "class Clase(object):\n",
    "    def __init__(self, *filename):\n",
    "        self.filename = filename\n",
    "        #self.pathname = pathname\n",
    "    "
   ]
  },
  {
   "cell_type": "code",
   "execution_count": 27,
   "id": "5c60dd2e",
   "metadata": {},
   "outputs": [
    {
     "name": "stdout",
     "output_type": "stream",
     "text": [
      "Hola\n",
      "cómo\n",
      "estás?\n"
     ]
    }
   ],
   "source": [
    "objeto=Clase(\"Hola\", \"cómo\", \"estás?\")\n",
    "for i in objeto.filename:\n",
    "    print(i)"
   ]
  },
  {
   "cell_type": "code",
   "execution_count": 28,
   "id": "252efe0d",
   "metadata": {},
   "outputs": [],
   "source": [
    "# Hola"
   ]
  },
  {
   "cell_type": "code",
   "execution_count": null,
   "id": "387bf718",
   "metadata": {},
   "outputs": [],
   "source": []
  }
 ],
 "metadata": {
  "kernelspec": {
   "display_name": "Python 3 (ipykernel)",
   "language": "python",
   "name": "python3"
  },
  "language_info": {
   "codemirror_mode": {
    "name": "ipython",
    "version": 3
   },
   "file_extension": ".py",
   "mimetype": "text/x-python",
   "name": "python",
   "nbconvert_exporter": "python",
   "pygments_lexer": "ipython3",
   "version": "3.11.2"
  }
 },
 "nbformat": 4,
 "nbformat_minor": 5
}
