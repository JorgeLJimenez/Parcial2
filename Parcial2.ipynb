{
 "cells": [
  {
   "cell_type": "markdown",
   "id": "187a58f4",
   "metadata": {},
   "source": [
    "### Hola :)"
   ]
  },
  {
   "cell_type": "code",
   "execution_count": 52,
   "id": "e369aaab",
   "metadata": {},
   "outputs": [],
   "source": [
    "import csv\n",
    "import os"
   ]
  },
  {
   "cell_type": "markdown",
   "id": "314c9aa2",
   "metadata": {},
   "source": [
    "### ***args** \n",
    "El asterisco le dice a Python que va a recibir varios argumentos y args (arguments) es el nombre de la variable donde se van a guardar en forma de tupla (Los argumentos se vuelven los elementos de la tupla). \n",
    "### ***kwargs*\n",
    "El doble asterisco ** indica que la variable kwargs (keyword arguments) es un diccionario cuyos índices son palabras clave y cuyos elementos son los valores (los datos) despues del igual =\n",
    "## Decoradores\n",
    "Un decorador es una función que toma como input a otra función que a su vez retorna otra función.\n",
    "\n",
    "Estructura de un decorador en Python:\n",
    "\n",
    "def function_a(function_b):  \n",
    "    def function_c()  \n",
    "        pass  \n",
    "    return function_c"
   ]
  },
  {
   "cell_type": "code",
   "execution_count": 115,
   "id": "80d5b07c",
   "metadata": {},
   "outputs": [
    {
     "ename": "SyntaxError",
     "evalue": "invalid syntax (488271083.py, line 4)",
     "output_type": "error",
     "traceback": [
      "\u001b[1;36m  Cell \u001b[1;32mIn[115], line 4\u001b[1;36m\u001b[0m\n\u001b[1;33m    self.paths = kwargs or  #directory's path.\u001b[0m\n\u001b[1;37m                            ^\u001b[0m\n\u001b[1;31mSyntaxError\u001b[0m\u001b[1;31m:\u001b[0m invalid syntax\n"
     ]
    }
   ],
   "source": [
    "class read_file:\n",
    "    def __init__(self, *args, **kwargs):\n",
    "        self.files = args or self.get_files() #files's names\n",
    "        self.paths = kwargs or  #directory's path.\n",
    "        #self.paths = kwargs\n",
    "        \n",
    "    def get_files(self):\n",
    "        return os.listdir(self.paths) #listdir method returns a list containing the names of all files and directories in the directory with path 'paths'."
   ]
  },
  {
   "cell_type": "markdown",
   "id": "7d298b99",
   "metadata": {},
   "source": [
    "El archivo Parcial2 se pasa sin dirección (uso ***args**).  \n",
    "El archivo archivo_de_texto se pasa con su dirección (uso ****kwargs**).  \n",
    "r para evitar que interprete \\ como un comando."
   ]
  },
  {
   "cell_type": "code",
   "execution_count": 142,
   "id": "b93202cb",
   "metadata": {},
   "outputs": [],
   "source": [
    "objeto=read_file(\"Parcial2\", archivo_de_texto = r\"C:\\Users\\Windows 10\\Desktop\\UNIQUINDÍO\\5to Semestre\\Parcial2\") "
   ]
  },
  {
   "cell_type": "code",
   "execution_count": 150,
   "id": "b453a57c",
   "metadata": {},
   "outputs": [],
   "source": [
    "#files=read_file(path=\"archivo_de_texto\", path2=\".ipynb_checkpoints\")"
   ]
  },
  {
   "cell_type": "markdown",
   "id": "a18e5d33",
   "metadata": {},
   "source": [
    "# El código de abajo es de prueba y recorderis"
   ]
  },
  {
   "cell_type": "code",
   "execution_count": 92,
   "id": "2a8ef986",
   "metadata": {},
   "outputs": [
    {
     "name": "stdout",
     "output_type": "stream",
     "text": [
      "Get current working directory :  C:\\Users\\Windows 10\\Desktop\\UNIQUINDÍO\\5to Semestre\\Parcial2\n"
     ]
    }
   ],
   "source": [
    "print('Get current working directory : ', os.getcwd())"
   ]
  },
  {
   "cell_type": "code",
   "execution_count": 93,
   "id": "1a1bd7e3",
   "metadata": {},
   "outputs": [],
   "source": [
    "# https://www.geeksforgeeks.org/find-path-to-the-given-file-using-python/ (Find path to the given file using Python)"
   ]
  },
  {
   "cell_type": "code",
   "execution_count": 96,
   "id": "3254446b",
   "metadata": {},
   "outputs": [
    {
     "data": {
      "text/plain": [
       "['.git', '.ipynb_checkpoints', 'archivo_de_texto.txt', 'Parcial2.ipynb']"
      ]
     },
     "execution_count": 96,
     "metadata": {},
     "output_type": "execute_result"
    }
   ],
   "source": [
    "os.listdir(os.getcwd()) #puedo ver mis archivos y directorios (en el directorio actual) en una tupla"
   ]
  },
  {
   "cell_type": "code",
   "execution_count": 127,
   "id": "2e3b991b",
   "metadata": {},
   "outputs": [
    {
     "name": "stdout",
     "output_type": "stream",
     "text": [
      "{'path1': 'A', 'path2': 'C', 'path3': 'B'}\n",
      "<class 'tuple'>\n",
      "Hola\n",
      "cómo\n",
      "estás?\n",
      "path1,A\n",
      "path2,C\n",
      "path3,B\n",
      "{'path1': 'A', 'path2': 'C', 'path3': 'B'}\n"
     ]
    }
   ],
   "source": [
    "class Class:\n",
    "    def __init__(self, *args, **kwargs):\n",
    "        self.files = args #files's names\n",
    "        self.paths = kwargs \n",
    "        \n",
    "objeto=Class(\"Hola\", \"cómo\", \"estás?\", path1=\"A\", path2=\"C\", path3=\"B\")\n",
    "print(objeto.paths)\n",
    "print(type(objeto.files))\n",
    "for i in objeto.files:\n",
    "    print(i)\n",
    "for key, value in objeto.paths.items():\n",
    "    print(f\"{key},{value}\")\n",
    "    \n",
    "print(objeto.paths)"
   ]
  },
  {
   "cell_type": "code",
   "execution_count": 243,
   "id": "5ffca157",
   "metadata": {},
   "outputs": [
    {
     "ename": "ModuleNotFoundError",
     "evalue": "No module named 'seaborn'",
     "output_type": "error",
     "traceback": [
      "\u001b[1;31m---------------------------------------------------------------------------\u001b[0m",
      "\u001b[1;31mModuleNotFoundError\u001b[0m                       Traceback (most recent call last)",
      "Cell \u001b[1;32mIn[243], line 4\u001b[0m\n\u001b[0;32m      2\u001b[0m \u001b[38;5;28;01mimport\u001b[39;00m \u001b[38;5;21;01mpandas\u001b[39;00m \u001b[38;5;28;01mas\u001b[39;00m \u001b[38;5;21;01mpd\u001b[39;00m\n\u001b[0;32m      3\u001b[0m \u001b[38;5;28;01mimport\u001b[39;00m \u001b[38;5;21;01mmatplotlib\u001b[39;00m\u001b[38;5;21;01m.\u001b[39;00m\u001b[38;5;21;01mpyplot\u001b[39;00m \u001b[38;5;28;01mas\u001b[39;00m \u001b[38;5;21;01mplt\u001b[39;00m\n\u001b[1;32m----> 4\u001b[0m \u001b[38;5;28;01mimport\u001b[39;00m \u001b[38;5;21;01mseaborn\u001b[39;00m \u001b[38;5;28;01mas\u001b[39;00m \u001b[38;5;21;01msns\u001b[39;00m\n\u001b[0;32m      5\u001b[0m file1 \u001b[38;5;241m=\u001b[39m \u001b[38;5;124mr\u001b[39m\u001b[38;5;124m'\u001b[39m\u001b[38;5;124mC:\u001b[39m\u001b[38;5;124m\\\u001b[39m\u001b[38;5;124mUsers\u001b[39m\u001b[38;5;124m\\\u001b[39m\u001b[38;5;124mWindows 10\u001b[39m\u001b[38;5;124m\\\u001b[39m\u001b[38;5;124mDesktop\u001b[39m\u001b[38;5;124m\\\u001b[39m\u001b[38;5;124mUNIQUINDÍO\u001b[39m\u001b[38;5;124m\\\u001b[39m\u001b[38;5;124m5to Semestre\u001b[39m\u001b[38;5;124m\\\u001b[39m\u001b[38;5;124mParcial2\u001b[39m\u001b[38;5;124m\\\u001b[39m\u001b[38;5;124mdata_base1.xlsx\u001b[39m\u001b[38;5;124m'\u001b[39m\n\u001b[0;32m      6\u001b[0m file2 \u001b[38;5;241m=\u001b[39m \u001b[38;5;124mr\u001b[39m\u001b[38;5;124m'\u001b[39m\u001b[38;5;124mC:\u001b[39m\u001b[38;5;124m\\\u001b[39m\u001b[38;5;124mUsers\u001b[39m\u001b[38;5;124m\\\u001b[39m\u001b[38;5;124mWindows 10\u001b[39m\u001b[38;5;124m\\\u001b[39m\u001b[38;5;124mDesktop\u001b[39m\u001b[38;5;124m\\\u001b[39m\u001b[38;5;124mUNIQUINDÍO\u001b[39m\u001b[38;5;124m\\\u001b[39m\u001b[38;5;124m5to Semestre\u001b[39m\u001b[38;5;124m\\\u001b[39m\u001b[38;5;124mParcial2\u001b[39m\u001b[38;5;124m\\\u001b[39m\u001b[38;5;124mdata_base2.xlsx\u001b[39m\u001b[38;5;124m'\u001b[39m\n",
      "\u001b[1;31mModuleNotFoundError\u001b[0m: No module named 'seaborn'"
     ]
    }
   ],
   "source": [
    "import xlrd\n",
    "import pandas as pd\n",
    "import matplotlib.pyplot as plt\n",
    "import seaborn as sns\n",
    "file1 = r'C:\\Users\\Windows 10\\Desktop\\UNIQUINDÍO\\5to Semestre\\Parcial2\\data_base1.xlsx'\n",
    "file2 = r'C:\\Users\\Windows 10\\Desktop\\UNIQUINDÍO\\5to Semestre\\Parcial2\\data_base2.xlsx'\n",
    "file3 = r'C:\\Users\\Windows 10\\Desktop\\UNIQUINDÍO\\5to Semestre\\Parcial2\\data_base3.xlsx'\n",
    "df1 = pd.read_excel(file1, engine='openpyxl')\n",
    "df2 = pd.read_excel(file2, engine='openpyxl')\n",
    "df3 = pd.read_excel(file3, engine='openpyxl')\n",
    "display(df1)\n",
    "display(df2)\n",
    "display(df3)\n",
    "\n",
    "\n",
    "dfR=pd.concat([df1, df2, df3], ignore_index=True, join=\"inner\").drop_duplicates(keep='first') #Combine DataFrame objects (within the list) with overlapping columns and return only those that are shared by passing inner to the join keyword argument.\n",
    "dfR=dfR.select_dtypes(include='number') #solo columnas con valores numericos.\n",
    "display(dfR) \n",
    "\n",
    "\n"
   ]
  },
  {
   "cell_type": "code",
   "execution_count": null,
   "id": "120c4ab1",
   "metadata": {},
   "outputs": [],
   "source": []
  },
  {
   "cell_type": "code",
   "execution_count": null,
   "id": "c1bdef61",
   "metadata": {},
   "outputs": [],
   "source": []
  },
  {
   "cell_type": "code",
   "execution_count": null,
   "id": "02272040",
   "metadata": {},
   "outputs": [],
   "source": []
  }
 ],
 "metadata": {
  "kernelspec": {
   "display_name": "Python 3 (ipykernel)",
   "language": "python",
   "name": "python3"
  },
  "language_info": {
   "codemirror_mode": {
    "name": "ipython",
    "version": 3
   },
   "file_extension": ".py",
   "mimetype": "text/x-python",
   "name": "python",
   "nbconvert_exporter": "python",
   "pygments_lexer": "ipython3",
   "version": "3.11.2"
  }
 },
 "nbformat": 4,
 "nbformat_minor": 5
}
